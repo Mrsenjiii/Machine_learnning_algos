{
  "nbformat": 4,
  "nbformat_minor": 0,
  "metadata": {
    "colab": {
      "private_outputs": true,
      "provenance": [],
      "authorship_tag": "ABX9TyMOCzhdsIdfQNJtDcCP9T9w",
      "include_colab_link": true
    },
    "kernelspec": {
      "name": "python3",
      "display_name": "Python 3"
    },
    "language_info": {
      "name": "python"
    }
  },
  "cells": [
    {
      "cell_type": "markdown",
      "metadata": {
        "id": "view-in-github",
        "colab_type": "text"
      },
      "source": [
        "<a href=\"https://colab.research.google.com/github/Mrsenjiii/Machine_learnning_algos/blob/main/week3.ipynb\" target=\"_parent\"><img src=\"https://colab.research.google.com/assets/colab-badge.svg\" alt=\"Open In Colab\"/></a>"
      ]
    },
    {
      "cell_type": "code",
      "source": [
        "import numpy as np\n",
        "import matplotlib.pyplot as plt"
      ],
      "metadata": {
        "id": "1GbfwalLCOg8"
      },
      "execution_count": null,
      "outputs": []
    },
    {
      "cell_type": "code",
      "execution_count": null,
      "metadata": {
        "id": "LOxmvniNkRYG"
      },
      "outputs": [],
      "source": [
        "np.random.seed(0)\n",
        "\n",
        "N = 2000\n",
        "data1 = np.random.randn(N//3,2) + np.array([2,2])\n",
        "data2 = np.random.randn(N//3,2) + np.array([-3,-3])\n",
        "data3 = np.random.randn(N//3,2) + np.array([-5,3])\n",
        "X = np.concatenate((data1, data2, data3))\n",
        "\n",
        "print(type(X))"
      ]
    },
    {
      "cell_type": "code",
      "source": [
        "X.shape"
      ],
      "metadata": {
        "id": "nlnxiWoXCcyi"
      },
      "execution_count": null,
      "outputs": []
    },
    {
      "cell_type": "code",
      "source": [
        "plt.scatter(X[:,0] , X[:,1])"
      ],
      "metadata": {
        "id": "msDw3O8aCo4j"
      },
      "execution_count": null,
      "outputs": []
    },
    {
      "cell_type": "code",
      "source": [
        "def assign_clusters(X, k, cluster_centers):\n",
        "  \"\"\"\n",
        "  inputs :\n",
        "      info\n",
        "        it will give us the clusters based on the distance from the mean of clusters you have chosen\n",
        "\n",
        "      X : dataset\n",
        "      k : # no of clusters\n",
        "      cluster_centers : randomly selected 3 cluster center for clusters\n",
        "\n",
        "      outputs :\n",
        "      1-d array ith element tells us ith data points belongs to ith cluster\n",
        "  \"\"\"\n",
        "\n",
        "  m = X.shape[0]\n",
        "  cluster = np.zeros(m)\n",
        "  for i  in range(m) :\n",
        "    distances = np.array([np.linalg.norm( X[i] - cluster_centers[j]) for j in range(k)] )\n",
        "    print(distances)\n",
        "    cluster[i] =np.argmin(distances )\n",
        "  return cluster #\n",
        "\n",
        "ind = np.array([200,800,1200])\n",
        "cluster_centers = np.array([X[i] for i in ind])  # randm decided three point for initilization\n",
        "# anotherarr\n",
        "clusters = assign_clusters(X,3,cluster_centers) # each point cluster\n",
        "# a.mean()sadflkj\n",
        "np.mean(clusters)"
      ],
      "metadata": {
        "id": "THJB6ap8C4Ay"
      },
      "execution_count": null,
      "outputs": []
    },
    {
      "cell_type": "code",
      "source": [
        "plt.scatter(X[:,0] , X[:,1] , c=clusters)\n",
        "plt.scatter( cluster_centers[:, 0], cluster_centers[:, 1], marker = '+', s = 400, color = 'k' )"
      ],
      "metadata": {
        "id": "BzKdCLLn5O2E"
      },
      "execution_count": null,
      "outputs": []
    },
    {
      "cell_type": "code",
      "source": [
        "\n",
        "def cluster_mean( X , cluster_indexes ) :\n",
        "  \"\"\"\n",
        "    input\n",
        "      X : datapoint 2-d array\n",
        "      cluster_indexes: 1-d array X corresponds to the cluster\n",
        "    output\n",
        "      new mean cluster scalar 1-d array\n",
        "  \"\"\"\n",
        "\n",
        "  clusters = np.unique(cluster_indexes) # unique clusters like 0 , 1 ,\n",
        "  k = clusters.shape[0]\n",
        "  mean = np.zeros(k)\n",
        "  for i in range(k) :\n",
        "    sum_i = X[cluster_indexes == i]\n",
        "    mean[i] = np.sum(sum_i)/sum_i.shape[0]\n",
        "\n",
        "\n",
        "  return mean\n",
        "b = cluster_mean(  X,clusters  )\n",
        "\n",
        "print(b)"
      ],
      "metadata": {
        "id": "_x5aTItR74ud"
      },
      "execution_count": null,
      "outputs": []
    },
    {
      "cell_type": "code",
      "source": [
        "def run_k_means(X , random_means , epochs , k ):\n",
        "\n",
        "  \"\"\"\n",
        "    inputs :\n",
        "     X: 1-D array => dataset\n",
        "     cluster_means  : cluster_means radnomly given\n",
        "     k : integer => no of clusters\n",
        "  \"\"\"\n",
        "  cluster_means = random_means\n",
        "  for i in range(epochs):\n",
        "    y = assign_clusters(X, k,  cluster_means) # [ 0, 2, 1, 0, 1, 0, ......  ]\n",
        "    new_mean = cluster_mean(X , y ) #  [ value1 , value2 , value3 ]\n",
        "    cluster_means = new_mean\n",
        "  return y,cluster_means\n",
        "\n",
        "\n",
        "\n",
        "ind = np.array([200,800,1200])\n",
        "cluster_centers = np.array([X[i] for i in ind])  # randm decided three point for initilization\n",
        "y,mean = run_k_means(X,cluster_centers , 10 ,3)"
      ],
      "metadata": {
        "id": "AtkBn05Yfhtb"
      },
      "execution_count": null,
      "outputs": []
    },
    {
      "cell_type": "code",
      "source": [],
      "metadata": {
        "id": "U4pOMW7JfhwX"
      },
      "execution_count": null,
      "outputs": []
    },
    {
      "cell_type": "code",
      "source": [
        "# np.random.seed(42)\n",
        "a = np.random.randint(10,size=(4,2))\n",
        "b = np.random.randint( 10, size = 8 )\n",
        "a = np.random.randint(121, size=2)\n",
        "# print(a,y)\n",
        "# print(a[y==0])\n",
        "y = np.argmin(a )\n",
        "print(a ,y)"
      ],
      "metadata": {
        "id": "Y6h-fJfeUkUx"
      },
      "execution_count": null,
      "outputs": []
    },
    {
      "cell_type": "code",
      "source": [
        "m  = X.shape[0]\n",
        "a = np.zeros((m,3))\n",
        "for i  in range(m) :\n",
        "    distances = np.array([ i*j for j in range(3)] )\n",
        "    print(distances.shape)\n",
        "a"
      ],
      "metadata": {
        "id": "KgGgEL0fUs2b"
      },
      "execution_count": null,
      "outputs": []
    },
    {
      "cell_type": "code",
      "source": [],
      "metadata": {
        "id": "O3Mg-5XI4Tm4"
      },
      "execution_count": null,
      "outputs": []
    }
  ]
}