{
  "nbformat": 4,
  "nbformat_minor": 0,
  "metadata": {
    "colab": {
      "provenance": [],
      "authorship_tag": "ABX9TyMjw+aQXlXOSpNRw2Ai+BqQ",
      "include_colab_link": true
    },
    "kernelspec": {
      "name": "python3",
      "display_name": "Python 3"
    },
    "language_info": {
      "name": "python"
    }
  },
  "cells": [
    {
      "cell_type": "markdown",
      "metadata": {
        "id": "view-in-github",
        "colab_type": "text"
      },
      "source": [
        "<a href=\"https://colab.research.google.com/github/Mrsenjiii/Machine_learnning_algos/blob/main/sk_learn_dataset.ipynb\" target=\"_parent\"><img src=\"https://colab.research.google.com/assets/colab-badge.svg\" alt=\"Open In Colab\"/></a>"
      ]
    },
    {
      "cell_type": "markdown",
      "source": [
        "# Machine learning model2"
      ],
      "metadata": {
        "id": "bgxZSYTstE3E"
      }
    },
    {
      "cell_type": "code",
      "source": [
        "import numpy as np\n",
        "import pandas as pd"
      ],
      "metadata": {
        "id": "jmsozOk0td9T"
      },
      "execution_count": null,
      "outputs": []
    },
    {
      "cell_type": "code",
      "execution_count": null,
      "metadata": {
        "colab": {
          "base_uri": "https://localhost:8080/"
        },
        "id": "czmtjV_GpDP8",
        "outputId": "f4ae1b6d-7632-4259-b064-fe1221d63364"
      },
      "outputs": [
        {
          "output_type": "stream",
          "name": "stdout",
          "text": [
            "cancer.keys(): \n",
            "dict_keys(['data', 'target', 'frame', 'target_names', 'DESCR', 'feature_names', 'filename', 'data_module'])\n"
          ]
        }
      ],
      "source": [
        "from sklearn.datasets import load_breast_cancer\n",
        "cancer = load_breast_cancer()\n",
        "print(\"cancer.keys(): \\n{}\".format(cancer.keys()))"
      ]
    },
    {
      "cell_type": "code",
      "source": [
        "cancer['data'].shape"
      ],
      "metadata": {
        "colab": {
          "base_uri": "https://localhost:8080/"
        },
        "id": "7k3WcpVOqiXB",
        "outputId": "363aaf73-3f30-4da9-bb3c-97c9628f702c"
      },
      "execution_count": null,
      "outputs": [
        {
          "output_type": "execute_result",
          "data": {
            "text/plain": [
              "(569, 30)"
            ]
          },
          "metadata": {},
          "execution_count": 18
        }
      ]
    },
    {
      "cell_type": "code",
      "source": [
        "dict(zip( cancer.target_names, np.bincount(cancer.target)))"
      ],
      "metadata": {
        "colab": {
          "base_uri": "https://localhost:8080/"
        },
        "id": "SuqwlpuDtNOb",
        "outputId": "5d460305-40f6-46b0-b8c2-216d5600d2d9"
      },
      "execution_count": null,
      "outputs": [
        {
          "output_type": "execute_result",
          "data": {
            "text/plain": [
              "{'malignant': 212, 'benign': 357}"
            ]
          },
          "metadata": {},
          "execution_count": 26
        }
      ]
    },
    {
      "cell_type": "code",
      "source": [
        "cancer['data'][ :,-1]"
      ],
      "metadata": {
        "colab": {
          "base_uri": "https://localhost:8080/"
        },
        "id": "ECzpmHgF0BxR",
        "outputId": "a5d11e4b-eaaa-4081-8d21-d45f31569ddd"
      },
      "execution_count": null,
      "outputs": [
        {
          "output_type": "execute_result",
          "data": {
            "text/plain": [
              "array([0.1189 , 0.08902, 0.08758, 0.173  , 0.07678, 0.1244 , 0.08368,\n",
              "       0.1151 , 0.1072 , 0.2075 , 0.08452, 0.1048 , 0.1023 , 0.06287,\n",
              "       0.1431 , 0.1341 , 0.08216, 0.1142 , 0.07615, 0.07259, 0.08183,\n",
              "       0.07773, 0.09946, 0.07526, 0.09564, 0.1059 , 0.1275 , 0.07421,\n",
              "       0.09876, 0.07919, 0.09782, 0.1402 , 0.08482, 0.1123 , 0.1233 ,\n",
              "       0.08633, 0.1014 , 0.06169, 0.05504, 0.1071 , 0.07146, 0.09606,\n",
              "       0.1038 , 0.1027 , 0.09618, 0.09185, 0.07409, 0.1179 , 0.08301,\n",
              "       0.06917, 0.06563, 0.08025, 0.07408, 0.07987, 0.07873, 0.07036,\n",
              "       0.08294, 0.1094 , 0.06289, 0.09026, 0.0802 , 0.07712, 0.1132 ,\n",
              "       0.0849 , 0.1031 , 0.08911, 0.09211, 0.06641, 0.1175 , 0.0641 ,\n",
              "       0.06589, 0.1084 , 0.1339 , 0.103  , 0.07609, 0.06387, 0.07191,\n",
              "       0.1108 , 0.09964, 0.07918, 0.08851, 0.1016 , 0.1051 , 0.09203,\n",
              "       0.07924, 0.08579, 0.06846, 0.09288, 0.09261, 0.08473, 0.07246,\n",
              "       0.06828, 0.06206, 0.06603, 0.08234, 0.08368, 0.07376, 0.08988,\n",
              "       0.08756, 0.09353, 0.07397, 0.09382, 0.06878, 0.0849 , 0.07552,\n",
              "       0.1405 , 0.09097, 0.07185, 0.09789, 0.08832, 0.08468, 0.08486,\n",
              "       0.1082 , 0.09026, 0.1017 , 0.08541, 0.07722, 0.1065 , 0.1252 ,\n",
              "       0.06111, 0.08523, 0.08456, 0.08009, 0.08006, 0.07628, 0.07182,\n",
              "       0.079  , 0.06541, 0.07779, 0.08465, 0.09241, 0.08019, 0.07619,\n",
              "       0.07071, 0.0761 , 0.08067, 0.07343, 0.06765, 0.07147, 0.06784,\n",
              "       0.08151, 0.08158, 0.08096, 0.08118, 0.06769, 0.1036 , 0.103  ,\n",
              "       0.09218, 0.07683, 0.07014, 0.06435, 0.1486 , 0.1259 , 0.06772,\n",
              "       0.08633, 0.08132, 0.07738, 0.05972, 0.07898, 0.07685, 0.07987,\n",
              "       0.06251, 0.09223, 0.09082, 0.09187, 0.06085, 0.07699, 0.07228,\n",
              "       0.093  , 0.06428, 0.06771, 0.07371, 0.101  , 0.07313, 0.06164,\n",
              "       0.07848, 0.1162 , 0.09519, 0.05843, 0.07319, 0.08082, 0.1284 ,\n",
              "       0.08631, 0.07427, 0.09772, 0.07697, 0.06938, 0.07097, 0.06576,\n",
              "       0.06306, 0.1446 , 0.06871, 0.06559, 0.1205 , 0.08701, 0.06949,\n",
              "       0.09333, 0.06558, 0.09221, 0.1013 , 0.08174, 0.07867, 0.08762,\n",
              "       0.1086 , 0.0875 , 0.0974 , 0.0738 , 0.06469, 0.1076 , 0.07474,\n",
              "       0.05865, 0.07993, 0.05525, 0.06818, 0.1026 , 0.1059 , 0.08365,\n",
              "       0.07809, 0.08255, 0.07568, 0.08718, 0.08177, 0.08797, 0.1064 ,\n",
              "       0.07623, 0.06072, 0.08269, 0.08362, 0.09585, 0.1243 , 0.09061,\n",
              "       0.07087, 0.07307, 0.08328, 0.08178, 0.07617, 0.08677, 0.07127,\n",
              "       0.07796, 0.08496, 0.0651 , 0.06783, 0.1297 , 0.06321, 0.07614,\n",
              "       0.07748, 0.07198, 0.1178 , 0.08147, 0.07809, 0.07849, 0.06487,\n",
              "       0.1297 , 0.08113, 0.0895 , 0.07957, 0.1005 , 0.1191 , 0.1019 ,\n",
              "       0.1204 , 0.07999, 0.06515, 0.07484, 0.06829, 0.0757 , 0.08218,\n",
              "       0.07587, 0.07024, 0.07062, 0.08701, 0.0612 , 0.08022, 0.08858,\n",
              "       0.08175, 0.07948, 0.06033, 0.06386, 0.05737, 0.06263, 0.06912,\n",
              "       0.0972 , 0.06688, 0.07787, 0.1063 , 0.07127, 0.06431, 0.09981,\n",
              "       0.06915, 0.07009, 0.06994, 0.08799, 0.08472, 0.09584, 0.07007,\n",
              "       0.06922, 0.06794, 0.06643, 0.06915, 0.07676, 0.06777, 0.09929,\n",
              "       0.07764, 0.09469, 0.07842, 0.07638, 0.06745, 0.08385, 0.07804,\n",
              "       0.06192, 0.0658 , 0.06958, 0.05695, 0.08253, 0.07434, 0.08116,\n",
              "       0.06174, 0.06037, 0.08198, 0.1055 , 0.05932, 0.09702, 0.05933,\n",
              "       0.08553, 0.1024 , 0.07961, 0.06888, 0.07083, 0.07037, 0.082  ,\n",
              "       0.07953, 0.09124, 0.09166, 0.06522, 0.07418, 0.07207, 0.07599,\n",
              "       0.1009 , 0.0987 , 0.07664, 0.07738, 0.08764, 0.09825, 0.0908 ,\n",
              "       0.07918, 0.07806, 0.08488, 0.08083, 0.08187, 0.08763, 0.0759 ,\n",
              "       0.06825, 0.105  , 0.08815, 0.09438, 0.07018, 0.07188, 0.08317,\n",
              "       0.07113, 0.07431, 0.08136, 0.05521, 0.06658, 0.07238, 0.06469,\n",
              "       0.07582, 0.06735, 0.07632, 0.0747 , 0.06494, 0.08574, 0.09614,\n",
              "       0.06766, 0.08666, 0.07055, 0.07701, 0.0896 , 0.12   , 0.07061,\n",
              "       0.09638, 0.1403 , 0.09215, 0.07287, 0.09349, 0.1118 , 0.0732 ,\n",
              "       0.06836, 0.08824, 0.06623, 0.1043 , 0.07602, 0.07722, 0.08865,\n",
              "       0.1019 , 0.1007 , 0.07081, 0.06609, 0.07686, 0.07053, 0.09158,\n",
              "       0.08121, 0.1198 , 0.07262, 0.07247, 0.07834, 0.05974, 0.07732,\n",
              "       0.07012, 0.08151, 0.08503, 0.06896, 0.07745, 0.07881, 0.09206,\n",
              "       0.09251, 0.06165, 0.07351, 0.08304, 0.1048 , 0.09464, 0.07123,\n",
              "       0.08284, 0.09208, 0.07427, 0.08839, 0.08009, 0.08061, 0.09646,\n",
              "       0.07662, 0.07083, 0.06025, 0.1155 , 0.09359, 0.08075, 0.08314,\n",
              "       0.06827, 0.1055 , 0.07735, 0.07234, 0.06911, 0.0671 , 0.09532,\n",
              "       0.07944, 0.0681 , 0.06736, 0.08225, 0.08251, 0.09075, 0.07285,\n",
              "       0.07463, 0.07425, 0.09952, 0.06091, 0.08194, 0.0781 , 0.0733 ,\n",
              "       0.07675, 0.0722 , 0.06788, 0.06291, 0.07211, 0.0906 , 0.07427,\n",
              "       0.06464, 0.07863, 0.06925, 0.1249 , 0.08174, 0.07875, 0.1224 ,\n",
              "       0.0927 , 0.08524, 0.06639, 0.08273, 0.06743, 0.108  , 0.07802,\n",
              "       0.07858, 0.07698, 0.0918 , 0.09136, 0.07729, 0.07603, 0.09326,\n",
              "       0.0696 , 0.08181, 0.1034 , 0.06596, 0.09009, 0.08024, 0.07623,\n",
              "       0.08203, 0.05871, 0.07625, 0.07028, 0.07429, 0.06599, 0.1033 ,\n",
              "       0.07661, 0.09445, 0.08999, 0.08549, 0.1183 , 0.07538, 0.07277,\n",
              "       0.1252 , 0.1364 , 0.08839, 0.1168 , 0.0723 , 0.1067 , 0.09879,\n",
              "       0.06142, 0.1109 , 0.07048, 0.06954, 0.06783, 0.07863, 0.09136,\n",
              "       0.08893, 0.08557, 0.08982, 0.09671, 0.07613, 0.09031, 0.09209,\n",
              "       0.1049 , 0.08665, 0.07592, 0.07253, 0.08052, 0.07757, 0.0895 ,\n",
              "       0.07782, 0.06386, 0.08278, 0.07569, 0.08351, 0.0997 , 0.09938,\n",
              "       0.1066 , 0.08134, 0.1023 , 0.06956, 0.06443, 0.08492, 0.06953,\n",
              "       0.07399, 0.09479, 0.0792 , 0.07626, 0.06592, 0.08032, 0.06484,\n",
              "       0.07393, 0.07242, 0.08283, 0.06742, 0.06969, 0.08004, 0.08732,\n",
              "       0.08321, 0.05905, 0.1409 , 0.09873, 0.07115, 0.06637, 0.0782 ,\n",
              "       0.124  , 0.07039])"
            ]
          },
          "metadata": {},
          "execution_count": 36
        }
      ]
    },
    {
      "cell_type": "markdown",
      "source": [],
      "metadata": {
        "id": "eypNRzKOqlUW"
      }
    },
    {
      "cell_type": "code",
      "source": [
        "print(cancer['DESCR'])"
      ],
      "metadata": {
        "colab": {
          "base_uri": "https://localhost:8080/"
        },
        "id": "fgTKHCh4xgFo",
        "outputId": "15feff47-a78b-48d3-c02a-a1296f558a6c"
      },
      "execution_count": null,
      "outputs": [
        {
          "output_type": "stream",
          "name": "stdout",
          "text": [
            ".. _breast_cancer_dataset:\n",
            "\n",
            "Breast cancer wisconsin (diagnostic) dataset\n",
            "--------------------------------------------\n",
            "\n",
            "**Data Set Characteristics:**\n",
            "\n",
            "    :Number of Instances: 569\n",
            "\n",
            "    :Number of Attributes: 30 numeric, predictive attributes and the class\n",
            "\n",
            "    :Attribute Information:\n",
            "        - radius (mean of distances from center to points on the perimeter)\n",
            "        - texture (standard deviation of gray-scale values)\n",
            "        - perimeter\n",
            "        - area\n",
            "        - smoothness (local variation in radius lengths)\n",
            "        - compactness (perimeter^2 / area - 1.0)\n",
            "        - concavity (severity of concave portions of the contour)\n",
            "        - concave points (number of concave portions of the contour)\n",
            "        - symmetry\n",
            "        - fractal dimension (\"coastline approximation\" - 1)\n",
            "\n",
            "        The mean, standard error, and \"worst\" or largest (mean of the three\n",
            "        worst/largest values) of these features were computed for each image,\n",
            "        resulting in 30 features.  For instance, field 0 is Mean Radius, field\n",
            "        10 is Radius SE, field 20 is Worst Radius.\n",
            "\n",
            "        - class:\n",
            "                - WDBC-Malignant\n",
            "                - WDBC-Benign\n",
            "\n",
            "    :Summary Statistics:\n",
            "\n",
            "    ===================================== ====== ======\n",
            "                                           Min    Max\n",
            "    ===================================== ====== ======\n",
            "    radius (mean):                        6.981  28.11\n",
            "    texture (mean):                       9.71   39.28\n",
            "    perimeter (mean):                     43.79  188.5\n",
            "    area (mean):                          143.5  2501.0\n",
            "    smoothness (mean):                    0.053  0.163\n",
            "    compactness (mean):                   0.019  0.345\n",
            "    concavity (mean):                     0.0    0.427\n",
            "    concave points (mean):                0.0    0.201\n",
            "    symmetry (mean):                      0.106  0.304\n",
            "    fractal dimension (mean):             0.05   0.097\n",
            "    radius (standard error):              0.112  2.873\n",
            "    texture (standard error):             0.36   4.885\n",
            "    perimeter (standard error):           0.757  21.98\n",
            "    area (standard error):                6.802  542.2\n",
            "    smoothness (standard error):          0.002  0.031\n",
            "    compactness (standard error):         0.002  0.135\n",
            "    concavity (standard error):           0.0    0.396\n",
            "    concave points (standard error):      0.0    0.053\n",
            "    symmetry (standard error):            0.008  0.079\n",
            "    fractal dimension (standard error):   0.001  0.03\n",
            "    radius (worst):                       7.93   36.04\n",
            "    texture (worst):                      12.02  49.54\n",
            "    perimeter (worst):                    50.41  251.2\n",
            "    area (worst):                         185.2  4254.0\n",
            "    smoothness (worst):                   0.071  0.223\n",
            "    compactness (worst):                  0.027  1.058\n",
            "    concavity (worst):                    0.0    1.252\n",
            "    concave points (worst):               0.0    0.291\n",
            "    symmetry (worst):                     0.156  0.664\n",
            "    fractal dimension (worst):            0.055  0.208\n",
            "    ===================================== ====== ======\n",
            "\n",
            "    :Missing Attribute Values: None\n",
            "\n",
            "    :Class Distribution: 212 - Malignant, 357 - Benign\n",
            "\n",
            "    :Creator:  Dr. William H. Wolberg, W. Nick Street, Olvi L. Mangasarian\n",
            "\n",
            "    :Donor: Nick Street\n",
            "\n",
            "    :Date: November, 1995\n",
            "\n",
            "This is a copy of UCI ML Breast Cancer Wisconsin (Diagnostic) datasets.\n",
            "https://goo.gl/U2Uwz2\n",
            "\n",
            "Features are computed from a digitized image of a fine needle\n",
            "aspirate (FNA) of a breast mass.  They describe\n",
            "characteristics of the cell nuclei present in the image.\n",
            "\n",
            "Separating plane described above was obtained using\n",
            "Multisurface Method-Tree (MSM-T) [K. P. Bennett, \"Decision Tree\n",
            "Construction Via Linear Programming.\" Proceedings of the 4th\n",
            "Midwest Artificial Intelligence and Cognitive Science Society,\n",
            "pp. 97-101, 1992], a classification method which uses linear\n",
            "programming to construct a decision tree.  Relevant features\n",
            "were selected using an exhaustive search in the space of 1-4\n",
            "features and 1-3 separating planes.\n",
            "\n",
            "The actual linear program used to obtain the separating plane\n",
            "in the 3-dimensional space is that described in:\n",
            "[K. P. Bennett and O. L. Mangasarian: \"Robust Linear\n",
            "Programming Discrimination of Two Linearly Inseparable Sets\",\n",
            "Optimization Methods and Software 1, 1992, 23-34].\n",
            "\n",
            "This database is also available through the UW CS ftp server:\n",
            "\n",
            "ftp ftp.cs.wisc.edu\n",
            "cd math-prog/cpo-dataset/machine-learn/WDBC/\n",
            "\n",
            ".. topic:: References\n",
            "\n",
            "   - W.N. Street, W.H. Wolberg and O.L. Mangasarian. Nuclear feature extraction \n",
            "     for breast tumor diagnosis. IS&T/SPIE 1993 International Symposium on \n",
            "     Electronic Imaging: Science and Technology, volume 1905, pages 861-870,\n",
            "     San Jose, CA, 1993.\n",
            "   - O.L. Mangasarian, W.N. Street and W.H. Wolberg. Breast cancer diagnosis and \n",
            "     prognosis via linear programming. Operations Research, 43(4), pages 570-577, \n",
            "     July-August 1995.\n",
            "   - W.H. Wolberg, W.N. Street, and O.L. Mangasarian. Machine learning techniques\n",
            "     to diagnose breast cancer from fine-needle aspirates. Cancer Letters 77 (1994) \n",
            "     163-171.\n"
          ]
        }
      ]
    },
    {
      "cell_type": "code",
      "source": [
        "from sklearn.datasets import load_boston"
      ],
      "metadata": {
        "colab": {
          "base_uri": "https://localhost:8080/",
          "height": 1000
        },
        "id": "VS9MI7rQxi56",
        "outputId": "4a0686e2-4da1-4466-eb07-ac2407791194"
      },
      "execution_count": null,
      "outputs": [
        {
          "output_type": "error",
          "ename": "ImportError",
          "evalue": "ignored",
          "traceback": [
            "\u001b[0;31m---------------------------------------------------------------------------\u001b[0m",
            "\u001b[0;31mImportError\u001b[0m                               Traceback (most recent call last)",
            "\u001b[0;32m<ipython-input-40-1ed36436ffa3>\u001b[0m in \u001b[0;36m<cell line: 1>\u001b[0;34m()\u001b[0m\n\u001b[0;32m----> 1\u001b[0;31m \u001b[0;32mfrom\u001b[0m \u001b[0msklearn\u001b[0m\u001b[0;34m.\u001b[0m\u001b[0mdatasets\u001b[0m \u001b[0;32mimport\u001b[0m \u001b[0mload_boston\u001b[0m\u001b[0;34m\u001b[0m\u001b[0;34m\u001b[0m\u001b[0m\n\u001b[0m",
            "\u001b[0;32m/usr/local/lib/python3.10/dist-packages/sklearn/datasets/__init__.py\u001b[0m in \u001b[0;36m__getattr__\u001b[0;34m(name)\u001b[0m\n\u001b[1;32m    154\u001b[0m             \"\"\"\n\u001b[1;32m    155\u001b[0m         )\n\u001b[0;32m--> 156\u001b[0;31m         \u001b[0;32mraise\u001b[0m \u001b[0mImportError\u001b[0m\u001b[0;34m(\u001b[0m\u001b[0mmsg\u001b[0m\u001b[0;34m)\u001b[0m\u001b[0;34m\u001b[0m\u001b[0;34m\u001b[0m\u001b[0m\n\u001b[0m\u001b[1;32m    157\u001b[0m     \u001b[0;32mtry\u001b[0m\u001b[0;34m:\u001b[0m\u001b[0;34m\u001b[0m\u001b[0;34m\u001b[0m\u001b[0m\n\u001b[1;32m    158\u001b[0m         \u001b[0;32mreturn\u001b[0m \u001b[0mglobals\u001b[0m\u001b[0;34m(\u001b[0m\u001b[0;34m)\u001b[0m\u001b[0;34m[\u001b[0m\u001b[0mname\u001b[0m\u001b[0;34m]\u001b[0m\u001b[0;34m\u001b[0m\u001b[0;34m\u001b[0m\u001b[0m\n",
            "\u001b[0;31mImportError\u001b[0m: \n`load_boston` has been removed from scikit-learn since version 1.2.\n\nThe Boston housing prices dataset has an ethical problem: as\ninvestigated in [1], the authors of this dataset engineered a\nnon-invertible variable \"B\" assuming that racial self-segregation had a\npositive impact on house prices [2]. Furthermore the goal of the\nresearch that led to the creation of this dataset was to study the\nimpact of air quality but it did not give adequate demonstration of the\nvalidity of this assumption.\n\nThe scikit-learn maintainers therefore strongly discourage the use of\nthis dataset unless the purpose of the code is to study and educate\nabout ethical issues in data science and machine learning.\n\nIn this special case, you can fetch the dataset from the original\nsource::\n\n    import pandas as pd\n    import numpy as np\n\n    data_url = \"http://lib.stat.cmu.edu/datasets/boston\"\n    raw_df = pd.read_csv(data_url, sep=\"\\s+\", skiprows=22, header=None)\n    data = np.hstack([raw_df.values[::2, :], raw_df.values[1::2, :2]])\n    target = raw_df.values[1::2, 2]\n\nAlternative datasets include the California housing dataset and the\nAmes housing dataset. You can load the datasets as follows::\n\n    from sklearn.datasets import fetch_california_housing\n    housing = fetch_california_housing()\n\nfor the California housing dataset and::\n\n    from sklearn.datasets import fetch_openml\n    housing = fetch_openml(name=\"house_prices\", as_frame=True)\n\nfor the Ames housing dataset.\n\n[1] M Carlisle.\n\"Racist data destruction?\"\n<https://medium.com/@docintangible/racist-data-destruction-113e3eff54a8>\n\n[2] Harrison Jr, David, and Daniel L. Rubinfeld.\n\"Hedonic housing prices and the demand for clean air.\"\nJournal of environmental economics and management 5.1 (1978): 81-102.\n<https://www.researchgate.net/publication/4974606_Hedonic_housing_prices_and_the_demand_for_clean_air>\n",
            "",
            "\u001b[0;31m---------------------------------------------------------------------------\u001b[0;32m\nNOTE: If your import is failing due to a missing package, you can\nmanually install dependencies using either !pip or !apt.\n\nTo view examples of installing some common dependencies, click the\n\"Open Examples\" button below.\n\u001b[0;31m---------------------------------------------------------------------------\u001b[0m\n"
          ],
          "errorDetails": {
            "actions": [
              {
                "action": "open_url",
                "actionText": "Open Examples",
                "url": "/notebooks/snippets/importing_libraries.ipynb"
              }
            ]
          }
        }
      ]
    },
    {
      "cell_type": "code",
      "source": [],
      "metadata": {
        "id": "9F09995l224r"
      },
      "execution_count": null,
      "outputs": []
    }
  ]
}