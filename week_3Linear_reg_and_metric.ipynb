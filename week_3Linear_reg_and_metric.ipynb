{
  "nbformat": 4,
  "nbformat_minor": 0,
  "metadata": {
    "colab": {
      "provenance": [],
      "toc_visible": true,
      "include_colab_link": true
    },
    "kernelspec": {
      "name": "python3",
      "display_name": "Python 3"
    },
    "language_info": {
      "name": "python"
    }
  },
  "cells": [
    {
      "cell_type": "markdown",
      "metadata": {
        "id": "view-in-github",
        "colab_type": "text"
      },
      "source": [
        "<a href=\"https://colab.research.google.com/github/Mrsenjiii/Machine_learnning_algos/blob/main/week_3Linear_reg_and_metric.ipynb\" target=\"_parent\"><img src=\"https://colab.research.google.com/assets/colab-badge.svg\" alt=\"Open In Colab\"/></a>"
      ]
    },
    {
      "cell_type": "markdown",
      "source": [
        "#Task 1\n",
        "\n",
        "Do the following\n",
        "- Import California Housing dataset\n",
        "- Split the sample into train : test with a ratio of 70:30 and keeping `random_state=42`"
      ],
      "metadata": {
        "id": "k4SimwDRquUs"
      }
    },
    {
      "cell_type": "code",
      "execution_count": 8,
      "metadata": {
        "id": "q0sPPBUgqbZ5"
      },
      "outputs": [],
      "source": [
        "from sklearn.datasets import fetch_california_housing\n",
        "from sklearn.model_selection import train_test_split\n",
        "\n",
        "X,y = fetch_california_housing(return_X_y = True)\n",
        "\n",
        "X_train, X_test, y_train, y_test = train_test_split( X, y, test_size=0.3, random_state=42)\n",
        "\n",
        "\n"
      ]
    },
    {
      "cell_type": "markdown",
      "source": [
        "#Task 2\n",
        "- Import Linear Regression Model\n",
        "- Fit the data split earlier to the model\n",
        "- Test and calculate the score"
      ],
      "metadata": {
        "id": "nCmkABlaqtqt"
      }
    },
    {
      "cell_type": "code",
      "source": [
        "from sklearn.linear_model import LinearRegression\n",
        "model = LinearRegression()\n",
        "\n",
        "model.fit(X_train, y_train)\n",
        "score = model.score(X_test, y_test)\n",
        "score2= model.score(X_train, y_train)\n",
        "print(score)\n",
        "print(score2)\n"
      ],
      "metadata": {
        "id": "hxIga4CysIHI",
        "colab": {
          "base_uri": "https://localhost:8080/"
        },
        "outputId": "726233dd-93f8-479c-e72f-8f7e2fd7c7a5"
      },
      "execution_count": 9,
      "outputs": [
        {
          "output_type": "stream",
          "name": "stdout",
          "text": [
            "0.595770232606166\n",
            "0.609345972797216\n"
          ]
        }
      ]
    },
    {
      "cell_type": "markdown",
      "source": [
        "#Task 3\n",
        "\n",
        "- Import diabetes dataset\n",
        "- Split the sample into train : test with a ratio of 60:40\n",
        "- Keep `random_state = 42`\n"
      ],
      "metadata": {
        "id": "-URbnnf1s4ui"
      }
    },
    {
      "cell_type": "code",
      "source": [
        "from sklearn.datasets import load_diabetes\n",
        "from sklearn.model_selection import train_test_split\n",
        "\n",
        "X,y = load_diabetes(return_X_y = True)\n",
        "\n",
        "X_train, X_test, y_train, y_test = train_test_split(X,y,test_size = 0.4, random_state = 42)"
      ],
      "metadata": {
        "id": "PpihIs0vsjX5"
      },
      "execution_count": 10,
      "outputs": []
    },
    {
      "cell_type": "markdown",
      "source": [
        "#Task 4\n",
        "- Import Linear Regression Model with intercept\n",
        "- Fit the data split earlier to the model\n",
        "- Test and calculate the score with intercept"
      ],
      "metadata": {
        "id": "H4OxH5VTtWoJ"
      }
    },
    {
      "cell_type": "code",
      "source": [
        "from sklearn.linear_model import LinearRegression\n",
        "\n",
        "model_with_intercept = LinearRegression(fit_intercept= True)\n",
        "model_with_intercept.fit(X_train, y_train)\n",
        "score_with_intercept = model_with_intercept.score(X_test, y_test)\n",
        "print(f'Model score with intercept  - {score_with_intercept}')\n",
        "\n"
      ],
      "metadata": {
        "colab": {
          "base_uri": "https://localhost:8080/"
        },
        "id": "ul19D6SjtV9U",
        "outputId": "66419960-02f0-4b2f-d6c9-087707cd4508"
      },
      "execution_count": 11,
      "outputs": [
        {
          "output_type": "stream",
          "name": "stdout",
          "text": [
            "Model score with intercept  - 0.515743631390243\n"
          ]
        }
      ]
    },
    {
      "cell_type": "markdown",
      "source": [
        "#Task 5\n",
        "- Import Linear Regression Model without intercept\n",
        "- Fit the data split earlier to the model\n",
        "- Test and calculate the score without intercept"
      ],
      "metadata": {
        "id": "UY3PWioouaoy"
      }
    },
    {
      "cell_type": "code",
      "source": [
        "from sklearn.linear_model import LinearRegression\n",
        "model_without_intercept = LinearRegression(fit_intercept= False)\n",
        "model_without_intercept.fit(X_train, y_train)\n",
        "score_without_intercept = model_without_intercept.score(X_test, y_test)\n",
        "print(f'Model score without intercept - {score_without_intercept}')"
      ],
      "metadata": {
        "colab": {
          "base_uri": "https://localhost:8080/"
        },
        "id": "uGx3zKjGua5z",
        "outputId": "9a5f5985-5e3c-4ffb-dc3b-fd23ae50094e"
      },
      "execution_count": 12,
      "outputs": [
        {
          "output_type": "stream",
          "name": "stdout",
          "text": [
            "Model score without intercept - -3.7861097351892807\n"
          ]
        }
      ]
    },
    {
      "cell_type": "code",
      "source": [
        "#What happens when we put fit_intercept= False or True.\n",
        "#Let us see an example\n",
        "from sklearn.datasets import make_regression\n",
        "import numpy as np\n",
        "import matplotlib.pyplot as plt\n",
        "\n",
        "bias = 100\n",
        "\n",
        "X = np.arange(1000).reshape(-1,1)\n",
        "y_true = np.ravel(X.dot(0.3) + bias)\n",
        "noise = np.random.normal(0, 60, 1000)\n",
        "y = y_true + noise\n",
        "\n",
        "lr_fi_true = LinearRegression(fit_intercept=True)\n",
        "lr_fi_false = LinearRegression(fit_intercept=False)\n",
        "\n",
        "lr_fi_true.fit(X, y)\n",
        "lr_fi_false.fit(X, y)\n",
        "\n",
        "print('Intercept when fit_intercept=True : {:.5f}'.format(lr_fi_true.intercept_))\n",
        "print('Intercept when fit_intercept=False : {:.5f}'.format(lr_fi_false.intercept_))\n",
        "\n",
        "lr_fi_true_yhat = np.dot(X, lr_fi_true.coef_) + lr_fi_true.intercept_\n",
        "lr_fi_false_yhat = np.dot(X, lr_fi_false.coef_) + lr_fi_false.intercept_\n",
        "\n",
        "plt.scatter(X, y, label='Actual points')\n",
        "plt.plot(X, lr_fi_true_yhat, 'r--', label='fit_intercept=True')\n",
        "plt.plot(X, lr_fi_false_yhat, 'r-', label='fit_intercept=False')\n",
        "plt.legend()\n",
        "\n",
        "plt.vlines(0, 0, y.max())\n",
        "plt.hlines(bias, X.min(), X.max())\n",
        "plt.hlines(0, X.min(), X.max())\n",
        "\n",
        "plt.show()"
      ],
      "metadata": {
        "colab": {
          "base_uri": "https://localhost:8080/",
          "height": 465
        },
        "id": "o8PuBvv0FmVh",
        "outputId": "7b7dd1b3-b139-4944-d42d-fd3aff6368e4"
      },
      "execution_count": 13,
      "outputs": [
        {
          "output_type": "stream",
          "name": "stdout",
          "text": [
            "Intercept when fit_intercept=True : 101.45409\n",
            "Intercept when fit_intercept=False : 0.00000\n"
          ]
        },
        {
          "output_type": "display_data",
          "data": {
            "text/plain": [
              "<Figure size 640x480 with 1 Axes>"
            ],
            "image/png": "[encoded data removed]"
          },
          "metadata": {}
        }
      ]
    },
    {
      "cell_type": "markdown",
      "source": [
        "#Task 6\n",
        "\n",
        "- Print value of intercept of the model trained on diabetes data\n",
        "- Print the value of the coefficients (Note this will print an array with 10 values which is the same as shape of X)"
      ],
      "metadata": {
        "id": "F3HlxKxzv6Fl"
      }
    },
    {
      "cell_type": "code",
      "source": [
        "print(model_with_intercept.intercept_)\n",
        "print(model_with_intercept.coef_)\n",
        "print(model_without_intercept.intercept_)\n",
        "print(model_without_intercept.coef_)"
      ],
      "metadata": {
        "colab": {
          "base_uri": "https://localhost:8080/"
        },
        "id": "ulEjhDD8ve1F",
        "outputId": "130b9dc9-f576-4c3d-f2f8-302ce813f699"
      },
      "execution_count": 14,
      "outputs": [
        {
          "output_type": "stream",
          "name": "stdout",
          "text": [
            "148.92850837170067\n",
            "[  18.08799763 -227.04344876  592.27723487  361.54123241 -655.90738774\n",
            "  353.71636413   14.41265469  142.87369371  594.01542882   31.67317969]\n",
            "0.0\n",
            "[  21.41555323 -251.46687789  805.83345466  287.96587044 -356.11194358\n",
            "   19.56032406  115.66859316  210.78337852  508.31081958  141.85952807]\n"
          ]
        }
      ]
    },
    {
      "cell_type": "markdown",
      "source": [
        "#Task 7\n",
        "- Load diabetes dataset\n",
        "- Split the dataset with test_size = 0.4\n",
        "- Train with SGDRegressor and calculate score"
      ],
      "metadata": {
        "id": "dFq-CKyu9GFq"
      }
    },
    {
      "cell_type": "code",
      "source": [
        "from sklearn.datasets import load_diabetes\n",
        "from sklearn.preprocessing import StandardScaler\n",
        "from sklearn.linear_model import SGDRegressor\n",
        "\n",
        "X,y = load_diabetes(return_X_y = True)\n",
        "\n",
        "X_train, X_test, y_train, y_test = train_test_split(X,y, test_size = 0.4, random_state = 42)\n",
        "\n",
        "model = SGDRegressor()\n",
        "\n",
        "model.fit(X_train, y_train)\n",
        "\n",
        "print(model.score(X_test, y_test))\n",
        "\n"
      ],
      "metadata": {
        "colab": {
          "base_uri": "https://localhost:8080/"
        },
        "id": "-Im-QoVA9lnR",
        "outputId": "7c952113-78eb-4f42-8142-a9a64433c224"
      },
      "execution_count": 15,
      "outputs": [
        {
          "output_type": "stream",
          "name": "stdout",
          "text": [
            "0.4058431123331242\n"
          ]
        },
        {
          "output_type": "stream",
          "name": "stderr",
          "text": [
            "/usr/local/lib/python3.10/dist-packages/sklearn/linear_model/_stochastic_gradient.py:1548: ConvergenceWarning: Maximum number of iteration reached before convergence. Consider increasing max_iter to improve the fit.\n",
            "  warnings.warn(\n"
          ]
        }
      ]
    },
    {
      "cell_type": "markdown",
      "source": [
        "#Task 8\n",
        "- Scale above dataset with Standard Scaler\n",
        "- Train with SGDRegressor and calculate score"
      ],
      "metadata": {
        "id": "HBIx-iYm-apA"
      }
    },
    {
      "cell_type": "code",
      "source": [
        "\n",
        "\n",
        "\n",
        "scaler = StandardScaler()\n",
        "X_train_norm =scaler.fit_transform(X_train)\n",
        "X_test_norm = scaler.transform(X_test)\n",
        "\n",
        "model = SGDRegressor()\n",
        "model.fit(X_train_norm,y_train)\n",
        "\n",
        "print(model.score(X_test_norm, y_test))"
      ],
      "metadata": {
        "colab": {
          "base_uri": "https://localhost:8080/"
        },
        "id": "Z5evF5BS-0rP",
        "outputId": "372f5c64-62e0-4591-afe5-ab13db2b05ef"
      },
      "execution_count": 16,
      "outputs": [
        {
          "output_type": "stream",
          "name": "stdout",
          "text": [
            "0.5095826487520616\n"
          ]
        }
      ]
    },
    {
      "cell_type": "markdown",
      "source": [
        "##Task 9\n",
        "- Train above scaled dataset with SGDRegressor, keep number of iterations as 10000 and calculate score"
      ],
      "metadata": {
        "id": "v5Rjg8PjgTql"
      }
    },
    {
      "cell_type": "code",
      "source": [
        "\n",
        "model = SGDRegressor(max_iter = 10000)\n",
        "model.fit(X_train_norm,y_train)\n",
        "\n",
        "print(model.score(X_test_norm, y_test))"
      ],
      "metadata": {
        "colab": {
          "base_uri": "https://localhost:8080/"
        },
        "id": "2p0O69rlgaOV",
        "outputId": "9ee16a46-6e6f-4c66-a508-9dd6cac0232b"
      },
      "execution_count": 17,
      "outputs": [
        {
          "output_type": "stream",
          "name": "stdout",
          "text": [
            "0.5069097402537315\n"
          ]
        }
      ]
    },
    {
      "cell_type": "markdown",
      "source": [
        "##Task 10\n",
        "- Train above scaled dataset with SGDRegressor, penalty as l1 norm and calculate score"
      ],
      "metadata": {
        "id": "w6KATiqTg-Ua"
      }
    },
    {
      "cell_type": "code",
      "source": [
        "model = SGDRegressor(penalty = 'l1')\n",
        "model.fit(X_train_norm,y_train)\n",
        "\n",
        "print(model.score(X_test_norm, y_test))"
      ],
      "metadata": {
        "colab": {
          "base_uri": "https://localhost:8080/"
        },
        "id": "5hvPqe7VhJ_n",
        "outputId": "a74b19bd-7633-4904-c05e-295c8416ed70"
      },
      "execution_count": 18,
      "outputs": [
        {
          "output_type": "stream",
          "name": "stdout",
          "text": [
            "0.5095430102735854\n"
          ]
        }
      ]
    },
    {
      "cell_type": "markdown",
      "source": [
        "##Task 11\n",
        "- Train above scaled dataset with SGDRegressor, learning rate as adaptive and calculate score"
      ],
      "metadata": {
        "id": "cvelzpOJhu9w"
      }
    },
    {
      "cell_type": "code",
      "source": [
        "model = SGDRegressor(learning_rate = 'adaptive')\n",
        "#‘adaptive’: eta = eta0, as long as the training keeps decreasing.\n",
        "#Each time n_iter_no_change consecutive epochs fail to decrease the training loss by tol\n",
        "#or fail to increase validation score by tol if early_stopping is True, the current learning rate is divided by 5.\n",
        "model.fit(X_train_norm,y_train)\n",
        "print(model.score(X_test_norm, y_test))"
      ],
      "metadata": {
        "colab": {
          "base_uri": "https://localhost:8080/"
        },
        "id": "niJ_ki8ahuE9",
        "outputId": "369815b0-93ec-4f0a-f15a-828140a8d251"
      },
      "execution_count": 19,
      "outputs": [
        {
          "output_type": "stream",
          "name": "stdout",
          "text": [
            "0.5106326591499826\n"
          ]
        }
      ]
    },
    {
      "cell_type": "markdown",
      "source": [
        "#Task 12 :\n",
        "\n",
        " - Import Ridge Regression model, train on above scaled datset and calculate score"
      ],
      "metadata": {
        "id": "nNFTzKiIjh8J"
      }
    },
    {
      "cell_type": "code",
      "source": [
        "from sklearn.linear_model import Ridge\n",
        "\n",
        "model = Ridge()\n",
        "model.fit(X_train_norm,y_train)\n",
        "\n",
        "print(model.score(X_test_norm,y_test))"
      ],
      "metadata": {
        "colab": {
          "base_uri": "https://localhost:8080/"
        },
        "id": "O6Cfyhe6jsmj",
        "outputId": "2600532a-f8f9-45e3-d06a-97eebf6399d2"
      },
      "execution_count": 20,
      "outputs": [
        {
          "output_type": "stream",
          "name": "stdout",
          "text": [
            "0.5141864666623315\n"
          ]
        }
      ]
    },
    {
      "cell_type": "markdown",
      "source": [
        "#Task 13\n",
        "\n",
        " - Import Lasso Regression model, train on above scaled datset and calculate score"
      ],
      "metadata": {
        "id": "B3Rw09jEj879"
      }
    },
    {
      "cell_type": "code",
      "source": [
        "from sklearn.linear_model import Lasso\n",
        "\n",
        "model = Lasso()\n",
        "model.fit(X_train_norm,y_train)\n",
        "\n",
        "print(model.score(X_test_norm,y_test))"
      ],
      "metadata": {
        "colab": {
          "base_uri": "https://localhost:8080/"
        },
        "id": "T_V3hdSTj9zb",
        "outputId": "47aa6b90-21d5-43a0-daf3-7e744ba6c6fb"
      },
      "execution_count": 21,
      "outputs": [
        {
          "output_type": "stream",
          "name": "stdout",
          "text": [
            "0.5084587775585885\n"
          ]
        }
      ]
    },
    {
      "cell_type": "markdown",
      "source": [
        "#Task 14\n",
        "\n",
        "- Import Pipeline\n",
        "- Import Polynomial features with degree 5\n",
        "- Fit LinearRegression and recover coefficients on below polynomial data"
      ],
      "metadata": {
        "id": "5VcweSlI7_4F"
      }
    },
    {
      "cell_type": "code",
      "source": [
        "import numpy as np\n",
        "\n",
        "from sklearn.linear_model import LinearRegression\n",
        "from sklearn.pipeline import Pipeline\n",
        "from sklearn.preprocessing import PolynomialFeatures\n",
        "\n",
        "model = Pipeline([('poly', PolynomialFeatures(degree = 5)),\n",
        "                  ('linear', LinearRegression(fit_intercept=False))])\n",
        "\n",
        "# fit to an order-3 polynomial data\n",
        "x = np.arange(5)\n",
        "y = 3 - (4 * x) + (5*(x**2))-(6*(x**3))+(7*(x**4))-(8*(x**5))\n",
        "\n",
        "model = model.fit(x[:, np.newaxis], y)\n",
        "model.named_steps['linear'].coef_"
      ],
      "metadata": {
        "colab": {
          "base_uri": "https://localhost:8080/"
        },
        "id": "d-cp0J0UwOLi",
        "outputId": "ab52584c-0d10-4577-ab5b-78402b027db2"
      },
      "execution_count": 22,
      "outputs": [
        {
          "output_type": "execute_result",
          "data": {
            "text/plain": [
              "array([ 3.        , -0.54338937, -2.20127215, -0.9591095 ,  5.55974557,\n",
              "       -7.85597456])"
            ]
          },
          "metadata": {},
          "execution_count": 22
        }
      ]
    },
    {
      "cell_type": "markdown",
      "source": [
        "#Task 15\n",
        "\n",
        "- Import RidgeCV\n",
        "- Import California Housing Dataset\n",
        "- use regularization rates of 0.002, 0.02,0.5, 0.2 and 1\n",
        "- calculate and print score\n",
        "- print best regularization parameter"
      ],
      "metadata": {
        "id": "zqC_2giYsQd_"
      }
    },
    {
      "cell_type": "code",
      "source": [
        "from sklearn.datasets import fetch_california_housing\n",
        "from sklearn.linear_model import RidgeCV\n",
        "\n",
        "X,y = fetch_california_housing(return_X_y = True)\n",
        "model = RidgeCV(alphas = [0.002, 0.02,0.5, 0.2,1]).fit(X,y)\n",
        "print(model.score(X,y))\n",
        "print(model.alpha_)"
      ],
      "metadata": {
        "colab": {
          "base_uri": "https://localhost:8080/"
        },
        "id": "SpBRnahvlL61",
        "outputId": "15c08ae5-ee93-42b3-be54-d37d4d94310e"
      },
      "execution_count": 23,
      "outputs": [
        {
          "output_type": "stream",
          "name": "stdout",
          "text": [
            "0.6062326586796789\n",
            "1.0\n"
          ]
        }
      ]
    },
    {
      "cell_type": "markdown",
      "source": [
        "#Task 16\n",
        "\n",
        "- Import LassoCV\n",
        "- Import California Housing Dataset\n",
        "- use regularization rates of 0.002, 0.02,0.5, 0.2 and 1\n",
        "- calculate and print score\n",
        "- print best regularization parameter"
      ],
      "metadata": {
        "id": "Dhp17iFgu7vS"
      }
    },
    {
      "cell_type": "code",
      "source": [
        "from sklearn.datasets import fetch_california_housing\n",
        "from sklearn.linear_model import LassoCV\n",
        "\n",
        "X,y = fetch_california_housing(return_X_y = True)\n",
        "model = LassoCV(alphas = [0.002, 0.02,0.5, 0.2,1]).fit(X,y)\n",
        "print(model.score(X,y))\n",
        "print(model.alpha_)"
      ],
      "metadata": {
        "colab": {
          "base_uri": "https://localhost:8080/"
        },
        "id": "qf-b1Yj_u8Mh",
        "outputId": "f1411436-316e-4ba9-8e26-d6ff76e2bde4"
      },
      "execution_count": 24,
      "outputs": [
        {
          "output_type": "stream",
          "name": "stdout",
          "text": [
            "0.6060801136504586\n",
            "0.002\n"
          ]
        }
      ]
    },
    {
      "cell_type": "markdown",
      "source": [
        "#Task 16\n",
        "\n",
        "- Import LassoLars\n",
        "- use regularization rates of 0.1 and normalize = True\n",
        "- calculate and print score\n",
        "- print best regularization parameter"
      ],
      "metadata": {
        "id": "Q5LReE7bsUpt"
      }
    },
    {
      "cell_type": "code",
      "source": [
        "from sklearn import linear_model\n",
        "from sklearn.linear_model import LassoLars\n",
        "reg = linear_model.LassoLars(alpha=0.01, normalize=True)\n",
        "reg.fit([[-2, 1], [0, 1], [1, 0]], [-2, 0, -1])\n",
        "LassoLars(alpha=0.1, normalize=False)\n",
        "print(reg.coef_)\n",
        "print(reg.alphas_)\n",
        "print(reg.active_)\n",
        "print (reg.coef_path_)"
      ],
      "metadata": {
        "colab": {
          "base_uri": "https://localhost:8080/"
        },
        "id": "yU1m_qtXsUpu",
        "outputId": "7f14459e-ca4b-454d-cd2f-7057fce62920"
      },
      "execution_count": 25,
      "outputs": [
        {
          "output_type": "stream",
          "name": "stdout",
          "text": [
            "[0.9431014  1.84946045]\n",
            "[0.3086067  0.13285545 0.01      ]\n",
            "[0, 1]\n",
            "[[0.         0.52725374 2.03733187]\n",
            " [0.         0.         1.51007814]]\n"
          ]
        },
        {
          "output_type": "stream",
          "name": "stderr",
          "text": [
            "/usr/local/lib/python3.10/dist-packages/sklearn/linear_model/_base.py:109: FutureWarning: 'normalize' was deprecated in version 1.2 and will be removed in 1.4.\n",
            "If you wish to scale the data, use Pipeline with a StandardScaler in a preprocessing stage. To reproduce the previous behavior:\n",
            "\n",
            "from sklearn.pipeline import make_pipeline\n",
            "\n",
            "model = make_pipeline(StandardScaler(with_mean=False), LassoLars())\n",
            "\n",
            "If you wish to pass a sample_weight parameter, you need to pass it as a fit parameter to each step of the pipeline as follows:\n",
            "\n",
            "kwargs = {s[0] + '__sample_weight': sample_weight for s in model.steps}\n",
            "model.fit(X, y, **kwargs)\n",
            "\n",
            "Set parameter alpha to: original_alpha * np.sqrt(n_samples). \n",
            "  warnings.warn(\n"
          ]
        }
      ]
    },
    {
      "cell_type": "markdown",
      "source": [
        "#Task 17\n",
        "- Import mean_squared_error\n",
        "- Calculate MSE on below data\n",
        "\n",
        "\n",
        "```\n",
        "y_true = [1, 2, -1, 5]\n",
        "y_pred = [2.5, 0.0, 2, 8]\n",
        "```\n",
        "\n"
      ],
      "metadata": {
        "id": "V3epVBTW6Wn5"
      }
    },
    {
      "cell_type": "code",
      "source": [
        "from sklearn.metrics import mean_squared_error\n",
        "y_true = [1, 0.5, 2.5, 7]\n",
        "y_pred = [2.5, 0.0, 2, 8]\n",
        "mean_squared_error(y_true, y_pred)"
      ],
      "metadata": {
        "colab": {
          "base_uri": "https://localhost:8080/"
        },
        "id": "2DTyB8Ab6YEc",
        "outputId": "1a065799-df60-4a82-df12-33fdd4d3cf78"
      },
      "execution_count": 26,
      "outputs": [
        {
          "output_type": "execute_result",
          "data": {
            "text/plain": [
              "0.9375"
            ]
          },
          "metadata": {},
          "execution_count": 26
        }
      ]
    },
    {
      "cell_type": "markdown",
      "source": [
        "#Task 18\n",
        "- Import explained_variance_score\n",
        "- Calculate score on below data\n",
        "\n",
        "\n",
        "```\n",
        "y_true = [1, 2, -1, 5]\n",
        "y_pred = [2.5, 0.0, 2, 8]\n",
        "```\n",
        "\n"
      ],
      "metadata": {
        "id": "r8T1ohC87Nfw"
      }
    },
    {
      "cell_type": "code",
      "source": [
        "from sklearn.metrics import explained_variance_score\n",
        "y_true = [1, 2, -1, 5]\n",
        "y_pred = [2.5, 0.0, 2, 8]\n",
        "explained_variance_score(y_true, y_pred)"
      ],
      "metadata": {
        "colab": {
          "base_uri": "https://localhost:8080/"
        },
        "id": "vo8_6Jat6_Db",
        "outputId": "88b34615-5031-436d-8f83-6b656fc63695"
      },
      "execution_count": 27,
      "outputs": [
        {
          "output_type": "execute_result",
          "data": {
            "text/plain": [
              "0.10999999999999999"
            ]
          },
          "metadata": {},
          "execution_count": 27
        }
      ]
    },
    {
      "cell_type": "markdown",
      "source": [
        "#Task 19\n",
        "- Import explained_variance_score\n",
        "- Calculate score on below multioutput data\n",
        "\n",
        "\n",
        "```\n",
        "y_true = [[1, 2], [-1, 0], [9, -4]]\n",
        "y_pred = [[2, 1], [-1.5, 1], [8, -5]]\n",
        "```\n",
        "\n"
      ],
      "metadata": {
        "id": "6oDejiCo7WmJ"
      }
    },
    {
      "cell_type": "code",
      "source": [
        "from sklearn.metrics import explained_variance_score\n",
        "y_true = [[1, 2], [-1, 0], [9, -4]]\n",
        "y_pred = [[2, 1], [-1.5, 1], [8, -5]]\n",
        "explained_variance_score(y_true, y_pred, multioutput='raw_values')"
      ],
      "metadata": {
        "colab": {
          "base_uri": "https://localhost:8080/"
        },
        "id": "1eY33WfL7Q8P",
        "outputId": "49335337-9a46-40e3-e263-557021c66bc1"
      },
      "execution_count": 28,
      "outputs": [
        {
          "output_type": "execute_result",
          "data": {
            "text/plain": [
              "array([0.96130952, 0.85714286])"
            ]
          },
          "metadata": {},
          "execution_count": 28
        }
      ]
    },
    {
      "cell_type": "markdown",
      "source": [
        "#Task 20\n",
        "- Import explained_variance_score\n",
        "- Calculate score on below multioutput data with weightage of [0.2,0.8]\n",
        "\n",
        "\n",
        "```\n",
        "y_true = [[1, 2], [-1, 0], [9, -4]]\n",
        "y_pred = [[2, 1], [-1.5, 1], [8, -5]]\n",
        "```\n",
        "\n"
      ],
      "metadata": {
        "id": "wEdIthVN7rYc"
      }
    },
    {
      "cell_type": "code",
      "source": [
        "from sklearn.metrics import explained_variance_score\n",
        "y_true = [[1, 2], [-1, 0], [9, -4]]\n",
        "y_pred = [[2, 1], [-1.5, 1], [8, -5]]\n",
        "explained_variance_score(y_true, y_pred, multioutput=[0.2,0.8])"
      ],
      "metadata": {
        "colab": {
          "base_uri": "https://localhost:8080/"
        },
        "id": "BiyqMokl7n94",
        "outputId": "01a75f1f-196b-42da-813e-b20221c8b391"
      },
      "execution_count": 29,
      "outputs": [
        {
          "output_type": "execute_result",
          "data": {
            "text/plain": [
              "0.8779761904761905"
            ]
          },
          "metadata": {},
          "execution_count": 29
        }
      ]
    },
    {
      "cell_type": "markdown",
      "source": [
        "#Task 21\n",
        "- Import max_error\n",
        "- Calculate score on below data\n",
        "\n",
        "\n",
        "```\n",
        "y_true = [1, 2, -1, 5]\n",
        "y_pred = [2.5, 0.0, 2, 8]\n",
        "```\n",
        "\n"
      ],
      "metadata": {
        "id": "3eOmGq6c73JH"
      }
    },
    {
      "cell_type": "code",
      "source": [
        "from sklearn.metrics import max_error\n",
        "y_true = [1, 2, -1, 5]\n",
        "y_pred = [2.5, 0.0, 2, 8]\n",
        "max_error(y_true, y_pred)"
      ],
      "metadata": {
        "colab": {
          "base_uri": "https://localhost:8080/"
        },
        "id": "qXpRifW570Oz",
        "outputId": "24e34280-ae73-408e-e43f-d405bee96c31"
      },
      "execution_count": 30,
      "outputs": [
        {
          "output_type": "execute_result",
          "data": {
            "text/plain": [
              "3.0"
            ]
          },
          "metadata": {},
          "execution_count": 30
        }
      ]
    },
    {
      "cell_type": "markdown",
      "source": [
        "#Task 22\n",
        "- Import mean_absolute_error\n",
        "- Calculate score on below data\n",
        "\n",
        "\n",
        "```\n",
        "y_true = [1, 2, -1, 5]\n",
        "y_pred = [2.5, 0.0, 2, 8]\n",
        "```\n",
        "\n"
      ],
      "metadata": {
        "id": "ovLtv_7R8Gd5"
      }
    },
    {
      "cell_type": "code",
      "source": [
        "from sklearn.metrics import mean_absolute_error\n",
        "y_true = [1, 2, -1, 5]\n",
        "y_pred = [2.5, 0.0, 2, 8]\n",
        "mean_absolute_error(y_true, y_pred)"
      ],
      "metadata": {
        "colab": {
          "base_uri": "https://localhost:8080/"
        },
        "id": "q97AousL8CR2",
        "outputId": "b942cf96-4002-421f-b175-b32a86cd1b04"
      },
      "execution_count": 31,
      "outputs": [
        {
          "output_type": "execute_result",
          "data": {
            "text/plain": [
              "2.375"
            ]
          },
          "metadata": {},
          "execution_count": 31
        }
      ]
    },
    {
      "cell_type": "markdown",
      "source": [
        "#Task 23\n",
        "- Import mean_absolute_error\n",
        "- Calculate score on below multioutput  data with uniform averages\n",
        "\n",
        "\n",
        "```\n",
        "y_true = [[1, 2], [-1, 0], [9, -4]]\n",
        "y_pred = [[2, 1], [-1.5, 1], [8, -5]]\n",
        "```\n",
        "\n"
      ],
      "metadata": {
        "id": "yeCMYcrx8P69"
      }
    },
    {
      "cell_type": "code",
      "source": [
        "from sklearn.metrics import mean_absolute_error\n",
        "y_true = [[1, 2], [-1, 0], [9, -4]]\n",
        "y_pred = [[2, 1], [-1.5, 1], [8, -5]]\n",
        "mean_absolute_error(y_true, y_pred)"
      ],
      "metadata": {
        "colab": {
          "base_uri": "https://localhost:8080/"
        },
        "id": "2T_aN9wL8F8W",
        "outputId": "480e8a85-70ac-4b32-e786-15255522ae59"
      },
      "execution_count": 32,
      "outputs": [
        {
          "output_type": "execute_result",
          "data": {
            "text/plain": [
              "0.9166666666666667"
            ]
          },
          "metadata": {},
          "execution_count": 32
        }
      ]
    },
    {
      "cell_type": "markdown",
      "source": [
        "#Task 24\n",
        "- Import mean_absolute_error\n",
        "- Calculate score on below multioutput  data with raw_values\n",
        "\n",
        "\n",
        "```\n",
        "y_true = [[1, 2], [-1, 0], [9, -4]]\n",
        "y_pred = [[2, 1], [-1.5, 1], [8, -5]]\n",
        "```\n",
        "\n"
      ],
      "metadata": {
        "id": "E-cqHGKg8rcw"
      }
    },
    {
      "cell_type": "code",
      "source": [
        "from sklearn.metrics import mean_absolute_error\n",
        "y_true = [[1, 2], [-1, 0], [9, -4]]\n",
        "y_pred = [[2, 1], [-1.5, 1], [8, -5]]\n",
        "mean_absolute_error(y_true, y_pred, multioutput = 'raw_values')"
      ],
      "metadata": {
        "colab": {
          "base_uri": "https://localhost:8080/"
        },
        "id": "1cH90LPj8n8Y",
        "outputId": "6aabdc33-06a4-41e8-934c-47d424d6d37d"
      },
      "execution_count": 33,
      "outputs": [
        {
          "output_type": "execute_result",
          "data": {
            "text/plain": [
              "array([0.83333333, 1.        ])"
            ]
          },
          "metadata": {},
          "execution_count": 33
        }
      ]
    },
    {
      "cell_type": "markdown",
      "source": [
        "#Task 25\n",
        "- Import mean_absolute_error\n",
        "- Calculate score on below multioutput  data with weightage of  [0.2, 0.8]\n",
        "\n",
        "\n",
        "```\n",
        "y_true = [[1, 2], [-1, 0], [9, -4]]\n",
        "y_pred = [[2, 1], [-1.5, 1], [8, -5]]\n",
        "```\n",
        "\n"
      ],
      "metadata": {
        "id": "f2rVQ8wl83QI"
      }
    },
    {
      "cell_type": "code",
      "source": [
        "from sklearn.metrics import mean_absolute_error\n",
        "y_true = [[1, 2], [-1, 0], [9, -4]]\n",
        "y_pred = [[2, 1], [-1.5, 1], [8, -5]]\n",
        "mean_absolute_error(y_true, y_pred, multioutput = [0.2, 0.8])"
      ],
      "metadata": {
        "colab": {
          "base_uri": "https://localhost:8080/"
        },
        "id": "TrYm7gB280--",
        "outputId": "2d438eaa-e088-4000-c0f4-4d215cc4e443"
      },
      "execution_count": 34,
      "outputs": [
        {
          "output_type": "execute_result",
          "data": {
            "text/plain": [
              "0.9666666666666668"
            ]
          },
          "metadata": {},
          "execution_count": 34
        }
      ]
    },
    {
      "cell_type": "markdown",
      "source": [
        "#Task 26\n",
        "- Import mean_squared_error\n",
        "- Calculate score on below multioutput  data with raw_values\n",
        "\n",
        "\n",
        "```\n",
        "y_true = [[1, 2], [-1, 0], [9, -4]]\n",
        "y_pred = [[2, 1], [-1.5, 1], [8, -5]]\n",
        "```\n",
        "\n"
      ],
      "metadata": {
        "id": "xIjDqWbl9Xap"
      }
    },
    {
      "cell_type": "code",
      "source": [
        "from sklearn.metrics import mean_squared_error\n",
        "y_true = [[1, 2], [-1, 0], [9, -4]]\n",
        "y_pred = [[2, 1], [-1.5, 1], [8, -5]]\n",
        "mean_squared_error(y_true, y_pred, multioutput = 'raw_values')\n"
      ],
      "metadata": {
        "colab": {
          "base_uri": "https://localhost:8080/"
        },
        "id": "A49O2K0J9G8D",
        "outputId": "572d020e-37a2-48f8-bb5b-18bc2f188b10"
      },
      "execution_count": 35,
      "outputs": [
        {
          "output_type": "execute_result",
          "data": {
            "text/plain": [
              "array([0.75, 1.  ])"
            ]
          },
          "metadata": {},
          "execution_count": 35
        }
      ]
    },
    {
      "cell_type": "markdown",
      "source": [
        "#Task 27\n",
        "- Import mean_squared_error\n",
        "- Calculate score on below multioutput  data with weightage of [0.2,0.8]\n",
        "\n",
        "\n",
        "```\n",
        "y_true = [[1, 2], [-1, 0], [9, -4]]\n",
        "y_pred = [[2, 1], [-1.5, 1], [8, -5]]\n",
        "```"
      ],
      "metadata": {
        "id": "WfnEUmMQ-DJJ"
      }
    },
    {
      "cell_type": "code",
      "source": [
        "from sklearn.metrics import mean_squared_error\n",
        "y_true = [[1, 2], [-1, 0], [9, -4]]\n",
        "y_pred = [[2, 1], [-1.5, 1], [8, -5]]\n",
        "mean_squared_error(y_true, y_pred, multioutput = [0.2,0.8])"
      ],
      "metadata": {
        "colab": {
          "base_uri": "https://localhost:8080/"
        },
        "id": "6FV467tx96IM",
        "outputId": "bd96b6b1-793c-4556-c573-af23a6fc7151"
      },
      "execution_count": 36,
      "outputs": [
        {
          "output_type": "execute_result",
          "data": {
            "text/plain": [
              "0.9500000000000001"
            ]
          },
          "metadata": {},
          "execution_count": 36
        }
      ]
    },
    {
      "cell_type": "markdown",
      "source": [
        "#Task 28\n",
        "- Import mean_squared_error\n",
        "- Calculate Root Mean Squared Error score on below multioutput  data with raw_values\n",
        "\n",
        "\n",
        "```\n",
        "y_true = [[1, 2], [-1, 0], [9, -4]]\n",
        "y_pred = [[2, 1], [-1.5, 1], [8, -5]]\n",
        "```"
      ],
      "metadata": {
        "id": "KC1wypF1-bTk"
      }
    },
    {
      "cell_type": "code",
      "source": [
        "from sklearn.metrics import mean_squared_error\n",
        "y_true = [[1, 2], [-1, 0], [9, -4]]\n",
        "y_pred = [[2, 1], [-1.5, 1], [8, -5]]\n",
        "mean_squared_error(y_true, y_pred, squared = False, multioutput = 'raw_values')"
      ],
      "metadata": {
        "colab": {
          "base_uri": "https://localhost:8080/"
        },
        "id": "RFHmrD9b-UJh",
        "outputId": "95a1529b-4d49-4049-af7d-75feee0f2a57"
      },
      "execution_count": 37,
      "outputs": [
        {
          "output_type": "execute_result",
          "data": {
            "text/plain": [
              "array([0.8660254, 1.       ])"
            ]
          },
          "metadata": {},
          "execution_count": 37
        }
      ]
    },
    {
      "cell_type": "markdown",
      "source": [
        "#Task 29\n",
        "- Import mean_squared_error\n",
        "- Calculate Root Mean Squared Error score on below multioutput data with weightage = [0.2, 0.8]\n",
        "\n",
        "\n",
        "```\n",
        "y_true = [[1, 2], [-1, 0], [9, -4]]\n",
        "y_pred = [[2, 1], [-1.5, 1], [8, -5]]\n",
        "```"
      ],
      "metadata": {
        "id": "K3RCtesi-tXH"
      }
    },
    {
      "cell_type": "code",
      "source": [
        "from sklearn.metrics import mean_squared_error\n",
        "y_true = [[1, 2], [-1, 0], [9, -4]]\n",
        "y_pred = [[2, 1], [-1.5, 1], [8, -5]]\n",
        "mean_squared_error(y_true, y_pred, multioutput = [0.2,0.8], squared = False)"
      ],
      "metadata": {
        "colab": {
          "base_uri": "https://localhost:8080/"
        },
        "id": "hSYcUAp0-oeR",
        "outputId": "e1952e62-181c-4c41-ee7f-ef4635d8c77d"
      },
      "execution_count": 38,
      "outputs": [
        {
          "output_type": "execute_result",
          "data": {
            "text/plain": [
              "0.9732050807568877"
            ]
          },
          "metadata": {},
          "execution_count": 38
        }
      ]
    },
    {
      "cell_type": "markdown",
      "source": [
        "#Task 30\n",
        "- Import r2_score\n",
        "- Calculate score on below data\n",
        "\n",
        "\n",
        "```\n",
        "y_true = [1, 2, -1, 5]\n",
        "y_pred = [2.5, 0.0, 2, 8]\n",
        "```\n",
        "\n"
      ],
      "metadata": {
        "id": "L1g86Tc5-75G"
      }
    },
    {
      "cell_type": "code",
      "source": [
        "from sklearn.metrics import r2_score\n",
        "y_true = [1, 2, -1, 5]\n",
        "y_pred = [2.5, 0.0, 2, 8]\n",
        "r2_score(y_true, y_pred)"
      ],
      "metadata": {
        "colab": {
          "base_uri": "https://localhost:8080/"
        },
        "id": "gH7FUnK7-0al",
        "outputId": "fda8f2bc-582d-4a91-c999-0e266be9f907"
      },
      "execution_count": 39,
      "outputs": [
        {
          "output_type": "execute_result",
          "data": {
            "text/plain": [
              "-0.2933333333333332"
            ]
          },
          "metadata": {},
          "execution_count": 39
        }
      ]
    },
    {
      "cell_type": "markdown",
      "source": [
        "#Task 31\n",
        "- Import mean_absolute_error\n",
        "- Calculate score on below multioutput  data with uniform average\n",
        "\n",
        "\n",
        "\n",
        "```\n",
        "y_true = [[1, 2], [-1, 0], [9, -4]]\n",
        "y_pred = [[2, 1], [-1.5, 1], [8, -5]]\n",
        "```\n",
        "\n"
      ],
      "metadata": {
        "id": "YY0yboDq_JKa"
      }
    },
    {
      "cell_type": "code",
      "source": [
        "from sklearn.metrics import r2_score\n",
        "\n",
        "y_true = [[1, 2], [-1, 0], [9, -4]]\n",
        "y_pred = [[2, 1], [-1.5, 1], [8, -5]]\n",
        "r2_score(y_true, y_pred, multioutput='uniform_average')"
      ],
      "metadata": {
        "colab": {
          "base_uri": "https://localhost:8080/"
        },
        "id": "xxBSqIMz_sEU",
        "outputId": "471dec68-ed1c-4993-b340-e1fce8dfbff1"
      },
      "execution_count": 40,
      "outputs": [
        {
          "output_type": "execute_result",
          "data": {
            "text/plain": [
              "0.8995535714285714"
            ]
          },
          "metadata": {},
          "execution_count": 40
        }
      ]
    },
    {
      "cell_type": "markdown",
      "source": [
        "#Task\n",
        "- Import mean_absolute_error\n",
        "- Calculate score on below multioutput  data with variance_weighted\n",
        "\n",
        "\n",
        "\n",
        "```\n",
        "y_true = [[1, 2], [-1, 0], [9, -4]]\n",
        "y_pred = [[2, 1], [-1.5, 1], [8, -5]]\n",
        "```\n",
        "\n"
      ],
      "metadata": {
        "id": "7xvIHfK9_2sO"
      }
    },
    {
      "cell_type": "code",
      "source": [
        "from sklearn.metrics import r2_score\n",
        "\n",
        "y_true = [[1, 2], [-1, 0], [9, -4]]\n",
        "y_pred = [[2, 1], [-1.5, 1], [8, -5]]\n",
        "r2_score(y_true, y_pred, multioutput='variance_weighted')"
      ],
      "metadata": {
        "colab": {
          "base_uri": "https://localhost:8080/"
        },
        "id": "SYXTqndk_8bO",
        "outputId": "d7525dae-d52b-425b-fb26-11cf99e6ed5e"
      },
      "execution_count": 41,
      "outputs": [
        {
          "output_type": "execute_result",
          "data": {
            "text/plain": [
              "0.9296875"
            ]
          },
          "metadata": {},
          "execution_count": 41
        }
      ]
    },
    {
      "cell_type": "markdown",
      "source": [
        "#Task\n",
        "- Import r2_score\n",
        "- Calculate score on below multioutput  data with raw_values\n",
        "\n",
        "\n",
        "```\n",
        "y_true = [[1, 2], [-1, 0], [9, -4]]\n",
        "y_pred = [[2, 1], [-1.5, 1], [8, -5]]\n",
        "```\n",
        "\n"
      ],
      "metadata": {
        "id": "DY6Py4uC_Jp-"
      }
    },
    {
      "cell_type": "code",
      "source": [
        "from sklearn.metrics import r2_score\n",
        "\n",
        "y_true = [[1, 2], [-1, 0], [9, -4]]\n",
        "y_pred = [[2, 1], [-1.5, 1], [8, -5]]\n",
        "r2_score(y_true, y_pred, multioutput='raw_values')"
      ],
      "metadata": {
        "colab": {
          "base_uri": "https://localhost:8080/"
        },
        "id": "Z3zbWoSEACP5",
        "outputId": "8789e680-6817-4068-d72f-261d78b63592"
      },
      "execution_count": 42,
      "outputs": [
        {
          "output_type": "execute_result",
          "data": {
            "text/plain": [
              "array([0.95982143, 0.83928571])"
            ]
          },
          "metadata": {},
          "execution_count": 42
        }
      ]
    },
    {
      "cell_type": "markdown",
      "source": [
        "#Task\n",
        "- Import mean_squared_error\n",
        "- Calculate Root Mean Squared Error score on below multioutput data with weightage = [0.2, 0.8]\n",
        "\n",
        "\n",
        "```\n",
        "y_true = [[1, 2], [-1, 0], [9, -4]]\n",
        "y_pred = [[2, 1], [-1.5, 1], [8, -5]]\n",
        "```"
      ],
      "metadata": {
        "id": "WYeoLgf1_J_V"
      }
    },
    {
      "cell_type": "code",
      "source": [
        "from sklearn.metrics import r2_score\n",
        "\n",
        "y_true = [[1, 2], [-1, 0], [9, -4]]\n",
        "y_pred = [[2, 1], [-1.5, 1], [8, -5]]\n",
        "r2_score(y_true, y_pred, multioutput=[0.2, 0.8])"
      ],
      "metadata": {
        "colab": {
          "base_uri": "https://localhost:8080/"
        },
        "id": "cVGOrNbWAKxs",
        "outputId": "04818d0e-9ad6-4e44-e543-18746deec7a9"
      },
      "execution_count": 43,
      "outputs": [
        {
          "output_type": "execute_result",
          "data": {
            "text/plain": [
              "0.8633928571428572"
            ]
          },
          "metadata": {},
          "execution_count": 43
        }
      ]
    },
    {
      "cell_type": "markdown",
      "source": [
        "#Task\n",
        "\n",
        " - import DummyRegressor\n",
        " - use strategy as median and calculate score on following data\n",
        "\n",
        "\n",
        "```\n",
        "X = np.array([2.0, 4.0, 3.0, 5.0])\n",
        "y = np.array([1.0, -2.0, -4.0, -8.0])\n",
        "```\n",
        "\n"
      ],
      "metadata": {
        "id": "H0ordYUsCGLi"
      }
    },
    {
      "cell_type": "code",
      "source": [
        "import numpy as np\n",
        "from sklearn.dummy import DummyRegressor\n",
        "\n",
        "X = np.array([2.0, 4.0, 3.0, 5.0])\n",
        "y = np.array([1.0, -2.0, -4.0, -8.0])\n",
        "\n",
        "dummy_regr = DummyRegressor(strategy=\"median\")\n",
        "dummy_regr.fit(X, y)\n",
        "z=dummy_regr.predict(X)\n",
        "print(z)\n",
        "print(y)\n",
        "dummy_regr.score(X, y)"
      ],
      "metadata": {
        "colab": {
          "base_uri": "https://localhost:8080/"
        },
        "id": "ZMWVLN34BZgC",
        "outputId": "a14cb128-935c-4c93-9c13-c12d95aeb67a"
      },
      "execution_count": 44,
      "outputs": [
        {
          "output_type": "stream",
          "name": "stdout",
          "text": [
            "[-3. -3. -3. -3.]\n",
            "[ 1. -2. -4. -8.]\n"
          ]
        },
        {
          "output_type": "execute_result",
          "data": {
            "text/plain": [
              "-0.005847953216374213"
            ]
          },
          "metadata": {},
          "execution_count": 44
        }
      ]
    },
    {
      "cell_type": "markdown",
      "source": [
        "#Task\n",
        "\n",
        "- Import KFold from sklearn\n",
        "- Split the following data into 3 folds\n",
        "\n",
        "\n",
        "```\n",
        "X = np.array([[1, 2], [3, 4], [1, 2], [3, 4],[2,4],[3,2]])\n",
        "y = np.array([1, 2, 3, 4,5,6])\n",
        "```\n",
        "\n"
      ],
      "metadata": {
        "id": "lQi2NnuqC6e5"
      }
    },
    {
      "cell_type": "code",
      "source": [
        "import numpy as np\n",
        "from sklearn.model_selection import KFold\n",
        "X = np.array([[1, 2], [3, 4], [1, 2], [3, 4],[2,4],[3,2]])\n",
        "y = np.array([1, 2, 3, 4,5,6])\n",
        "kf = KFold(n_splits=3)\n",
        "\n",
        "for train,test in kf.split(X):\n",
        "  X_train, X_test, y_train, y_test = X[train], X[test], y[train], y[test]\n",
        "  print ('X_train: %s'% X_train)\n",
        "  print ('y_train: %s'% y_train)\n",
        "  print ('X_test: %s'% X_test)\n",
        "  print ('y_test: %s'% y_test)\n",
        "\n"
      ],
      "metadata": {
        "colab": {
          "base_uri": "https://localhost:8080/"
        },
        "id": "iEENv7YmCqUI",
        "outputId": "76f8bb75-cf3b-46a6-c72b-763b0c29eb50"
      },
      "execution_count": 45,
      "outputs": [
        {
          "output_type": "stream",
          "name": "stdout",
          "text": [
            "X_train: [[1 2]\n",
            " [3 4]\n",
            " [2 4]\n",
            " [3 2]]\n",
            "y_train: [3 4 5 6]\n",
            "X_test: [[1 2]\n",
            " [3 4]]\n",
            "y_test: [1 2]\n",
            "X_train: [[1 2]\n",
            " [3 4]\n",
            " [2 4]\n",
            " [3 2]]\n",
            "y_train: [1 2 5 6]\n",
            "X_test: [[1 2]\n",
            " [3 4]]\n",
            "y_test: [3 4]\n",
            "X_train: [[1 2]\n",
            " [3 4]\n",
            " [1 2]\n",
            " [3 4]]\n",
            "y_train: [1 2 3 4]\n",
            "X_test: [[2 4]\n",
            " [3 2]]\n",
            "y_test: [5 6]\n"
          ]
        }
      ]
    },
    {
      "cell_type": "markdown",
      "source": [
        "#Task\n",
        "\n",
        "Use RepeatedKFold on the following data with 3 splits and 3 repeats\n",
        "\n",
        "\n",
        "```\n",
        "X = np.array([[1, 2], [3, 4], [1, 2], [3, 4],[2,4],[3,2]])\n",
        "y = np.array([1, 2, 3, 4,5,6])\n",
        "```\n",
        "\n"
      ],
      "metadata": {
        "id": "BJwm7tF2EwpF"
      }
    },
    {
      "cell_type": "code",
      "source": [
        "import numpy as np\n",
        "from sklearn.model_selection import RepeatedKFold\n",
        "X = np.array([[1, 2], [3, 4], [1, 2], [3, 4],[2,4],[3,2]])\n",
        "y = np.array([1, 2, 3, 4,5,6])\n",
        "rkf = RepeatedKFold(n_splits=3, n_repeats=3, random_state=42)\n",
        "for train,test in rkf.split(X):\n",
        "  X_train, X_test, y_train, y_test = X[train], X[test], y[train], y[test]\n",
        "  print ('X_train: %s'% X_train)\n",
        "  print ('y_train: %s'% y_train)\n",
        "  print ('X_test: %s'% X_test)\n",
        "  print ('y_test: %s'% y_test)"
      ],
      "metadata": {
        "colab": {
          "base_uri": "https://localhost:8080/"
        },
        "id": "YXlbi7uTDQeU",
        "outputId": "57dba1de-8d79-4987-aa2e-9d5da1025634"
      },
      "execution_count": 46,
      "outputs": [
        {
          "output_type": "stream",
          "name": "stdout",
          "text": [
            "X_train: [[1 2]\n",
            " [3 4]\n",
            " [2 4]\n",
            " [3 2]]\n",
            "y_train: [3 4 5 6]\n",
            "X_test: [[1 2]\n",
            " [3 4]]\n",
            "y_test: [1 2]\n",
            "X_train: [[1 2]\n",
            " [3 4]\n",
            " [3 4]\n",
            " [2 4]]\n",
            "y_train: [1 2 4 5]\n",
            "X_test: [[1 2]\n",
            " [3 2]]\n",
            "y_test: [3 6]\n",
            "X_train: [[1 2]\n",
            " [3 4]\n",
            " [1 2]\n",
            " [3 2]]\n",
            "y_train: [1 2 3 6]\n",
            "X_test: [[3 4]\n",
            " [2 4]]\n",
            "y_test: [4 5]\n",
            "X_train: [[3 4]\n",
            " [1 2]\n",
            " [2 4]\n",
            " [3 2]]\n",
            "y_train: [2 3 5 6]\n",
            "X_test: [[1 2]\n",
            " [3 4]]\n",
            "y_test: [1 4]\n",
            "X_train: [[1 2]\n",
            " [3 4]\n",
            " [2 4]\n",
            " [3 2]]\n",
            "y_train: [1 4 5 6]\n",
            "X_test: [[3 4]\n",
            " [1 2]]\n",
            "y_test: [2 3]\n",
            "X_train: [[1 2]\n",
            " [3 4]\n",
            " [1 2]\n",
            " [3 4]]\n",
            "y_train: [1 2 3 4]\n",
            "X_test: [[2 4]\n",
            " [3 2]]\n",
            "y_test: [5 6]\n",
            "X_train: [[1 2]\n",
            " [1 2]\n",
            " [3 4]\n",
            " [3 2]]\n",
            "y_train: [1 3 4 6]\n",
            "X_test: [[3 4]\n",
            " [2 4]]\n",
            "y_test: [2 5]\n",
            "X_train: [[3 4]\n",
            " [1 2]\n",
            " [2 4]\n",
            " [3 2]]\n",
            "y_train: [2 3 5 6]\n",
            "X_test: [[1 2]\n",
            " [3 4]]\n",
            "y_test: [1 4]\n",
            "X_train: [[1 2]\n",
            " [3 4]\n",
            " [3 4]\n",
            " [2 4]]\n",
            "y_train: [1 2 4 5]\n",
            "X_test: [[1 2]\n",
            " [3 2]]\n",
            "y_test: [3 6]\n"
          ]
        }
      ]
    },
    {
      "cell_type": "markdown",
      "source": [],
      "metadata": {
        "id": "rTSZWA-7GXYK"
      }
    },
    {
      "cell_type": "code",
      "source": [
        "\n"
      ],
      "metadata": {
        "id": "vEtFnFMqFqqf"
      },
      "execution_count": 46,
      "outputs": []
    },
    {
      "cell_type": "markdown",
      "source": [
        "#Task\n",
        "\n",
        "Use LeaveOneOut on the following data and create the splits\n",
        "\n",
        "\n",
        "```\n",
        "X = np.array([[1, 2], [3, 4], [1, 2], [3, 4],[2,4],[3,2]])\n",
        "\n",
        "```\n"
      ],
      "metadata": {
        "id": "-4vtSiRlGbkf"
      }
    },
    {
      "cell_type": "code",
      "source": [
        "from sklearn.model_selection import LeaveOneOut\n",
        "\n",
        "X = np.array([[1, 2], [3, 4], [1, 2], [3, 4],[2,4],[3,2]])\n",
        "loo = LeaveOneOut()\n",
        "\n",
        "split = 1\n",
        "for train, test in loo.split(X):\n",
        "    print(\"split# %d, %s %s\" % (split, train, test))\n",
        "    split += 1"
      ],
      "metadata": {
        "colab": {
          "base_uri": "https://localhost:8080/"
        },
        "id": "VQNLEH4FGAUH",
        "outputId": "71ec8515-262a-44d8-b23c-6602fb0f343e"
      },
      "execution_count": 47,
      "outputs": [
        {
          "output_type": "stream",
          "name": "stdout",
          "text": [
            "split# 1, [1 2 3 4 5] [0]\n",
            "split# 2, [0 2 3 4 5] [1]\n",
            "split# 3, [0 1 3 4 5] [2]\n",
            "split# 4, [0 1 2 4 5] [3]\n",
            "split# 5, [0 1 2 3 5] [4]\n",
            "split# 6, [0 1 2 3 4] [5]\n"
          ]
        }
      ]
    },
    {
      "cell_type": "markdown",
      "source": [
        "#Task\n",
        "\n",
        "Use LeavePOut on the following data and create the splits. Use p as 3\n",
        "\n",
        "\n",
        "```\n",
        "X = np.array([[1, 2], [3, 4], [1, 2], [3, 4],[2,4],[3,2]])\n",
        "\n",
        "```\n"
      ],
      "metadata": {
        "id": "_GnGZUOUGtp1"
      }
    },
    {
      "cell_type": "code",
      "source": [
        "from sklearn.model_selection import LeavePOut\n",
        "\n",
        "X = np.array([[1, 2], [3, 4], [1, 2], [3, 4],[2,4],[3,2]])\n",
        "lpo = LeavePOut(p = 3)\n",
        "\n",
        "split = 1\n",
        "for train, test in lpo.split(X):\n",
        "    print(\"split# %d, %s %s\" % (split, train, test))\n",
        "    split += 1"
      ],
      "metadata": {
        "colab": {
          "base_uri": "https://localhost:8080/"
        },
        "id": "kqPLDwk7GoVJ",
        "outputId": "7c2b31e4-3254-416e-8fd8-0a3a8207787f"
      },
      "execution_count": 48,
      "outputs": [
        {
          "output_type": "stream",
          "name": "stdout",
          "text": [
            "split# 1, [3 4 5] [0 1 2]\n",
            "split# 2, [2 4 5] [0 1 3]\n",
            "split# 3, [2 3 5] [0 1 4]\n",
            "split# 4, [2 3 4] [0 1 5]\n",
            "split# 5, [1 4 5] [0 2 3]\n",
            "split# 6, [1 3 5] [0 2 4]\n",
            "split# 7, [1 3 4] [0 2 5]\n",
            "split# 8, [1 2 5] [0 3 4]\n",
            "split# 9, [1 2 4] [0 3 5]\n",
            "split# 10, [1 2 3] [0 4 5]\n",
            "split# 11, [0 4 5] [1 2 3]\n",
            "split# 12, [0 3 5] [1 2 4]\n",
            "split# 13, [0 3 4] [1 2 5]\n",
            "split# 14, [0 2 5] [1 3 4]\n",
            "split# 15, [0 2 4] [1 3 5]\n",
            "split# 16, [0 2 3] [1 4 5]\n",
            "split# 17, [0 1 5] [2 3 4]\n",
            "split# 18, [0 1 4] [2 3 5]\n",
            "split# 19, [0 1 3] [2 4 5]\n",
            "split# 20, [0 1 2] [3 4 5]\n"
          ]
        }
      ]
    },
    {
      "cell_type": "markdown",
      "source": [
        "#Task\n",
        "\n",
        "- Use ShuffleSplit and split the following data. Keep test size as 0.33\n",
        "\n",
        "\n",
        "```\n",
        "X = np.array([[1, 2], [3, 4], [1, 2], [3, 4],[2,4],[3,2]])\n",
        "\n",
        "```\n",
        "\n"
      ],
      "metadata": {
        "id": "UYQpJQOpHHd1"
      }
    },
    {
      "cell_type": "code",
      "source": [
        "from sklearn.model_selection import ShuffleSplit\n",
        "X = np.array([[1, 2], [3, 4], [1, 2], [3, 4],[2,4],[3,2]])\n",
        "ss = ShuffleSplit(n_splits=5, test_size=0.33, random_state=42)\n",
        "\n",
        "split = 1\n",
        "for train_index, test_index in ss.split(X):\n",
        "    print(\"split #%d, %s %s\" % (split, train_index, test_index))\n",
        "    split += 1"
      ],
      "metadata": {
        "colab": {
          "base_uri": "https://localhost:8080/"
        },
        "id": "mrxIuVrmG65C",
        "outputId": "bf9f26a0-7efe-44ae-def2-02272dfaa25a"
      },
      "execution_count": 49,
      "outputs": [
        {
          "output_type": "stream",
          "name": "stdout",
          "text": [
            "split #1, [5 2 4 3] [0 1]\n",
            "split #2, [1 2 5 4] [3 0]\n",
            "split #3, [0 3 5 2] [4 1]\n",
            "split #4, [3 1 4 2] [0 5]\n",
            "split #5, [4 0 3 1] [2 5]\n"
          ]
        }
      ]
    },
    {
      "cell_type": "markdown",
      "source": [
        "#Task\n",
        "\n",
        "- Import Ridge model\n",
        "- Import California Housing model\n",
        "- Import cross_val_score\n",
        "- calculate score using cv = 4, and print score"
      ],
      "metadata": {
        "id": "gccNFWvGHHBY"
      }
    },
    {
      "cell_type": "code",
      "source": [
        "from sklearn.datasets import fetch_california_housing\n",
        "from sklearn.linear_model import Ridge\n",
        "from sklearn.model_selection import cross_val_score\n",
        "import numpy as np\n",
        "X = np.array([[1, 2], [3, 4], [1, 2], [3, 4],[2,4],[3,2]])\n",
        "y = np.array([1,2,3,4,5,6])\n",
        "# X, y = fetch_california_housing(return_X_y = True)\n",
        "loo = LeaveOneOut()\n",
        "kf = KFold(n_splits=3)\n",
        "model = Ridge()\n",
        "score = cross_val_score(model, X, y, cv=kf)\n",
        "\n",
        "print(score)"
      ],
      "metadata": {
        "colab": {
          "base_uri": "https://localhost:8080/"
        },
        "id": "QHrALLOYHdl-",
        "outputId": "11c86b90-c337-47fc-eab0-5d52cc8f6e4d"
      },
      "execution_count": 51,
      "outputs": [
        {
          "output_type": "stream",
          "name": "stdout",
          "text": [
            "[-30.91469946   0.42352708 -33.87654321]\n"
          ]
        }
      ]
    },
    {
      "cell_type": "code",
      "source": [],
      "metadata": {
        "id": "wAMtITnxCoFu"
      },
      "execution_count": 50,
      "outputs": []
    }
  ]
}